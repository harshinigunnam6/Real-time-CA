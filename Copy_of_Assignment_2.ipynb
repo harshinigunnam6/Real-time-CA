{
  "nbformat": 4,
  "nbformat_minor": 0,
  "metadata": {
    "colab": {
      "provenance": []
    },
    "kernelspec": {
      "name": "python3",
      "display_name": "Python 3"
    },
    "language_info": {
      "name": "python"
    },
    "widgets": {
      "application/vnd.jupyter.widget-state+json": {
        "83104c1e0bcb42feb75a0ab5ca9db6ec": {
          "model_module": "@jupyter-widgets/controls",
          "model_name": "HBoxModel",
          "model_module_version": "1.5.0",
          "state": {
            "_dom_classes": [],
            "_model_module": "@jupyter-widgets/controls",
            "_model_module_version": "1.5.0",
            "_model_name": "HBoxModel",
            "_view_count": null,
            "_view_module": "@jupyter-widgets/controls",
            "_view_module_version": "1.5.0",
            "_view_name": "HBoxView",
            "box_style": "",
            "children": [
              "IPY_MODEL_b6e77e0ca66e41ccbcbae654501079ad",
              "IPY_MODEL_4add8f096b084a309cfda0bc15c39feb",
              "IPY_MODEL_937ed0d6e9024de1af21291ed1f0ca2f"
            ],
            "layout": "IPY_MODEL_e8724a2eef09453b89dd5857a722e279"
          }
        },
        "b6e77e0ca66e41ccbcbae654501079ad": {
          "model_module": "@jupyter-widgets/controls",
          "model_name": "HTMLModel",
          "model_module_version": "1.5.0",
          "state": {
            "_dom_classes": [],
            "_model_module": "@jupyter-widgets/controls",
            "_model_module_version": "1.5.0",
            "_model_name": "HTMLModel",
            "_view_count": null,
            "_view_module": "@jupyter-widgets/controls",
            "_view_module_version": "1.5.0",
            "_view_name": "HTMLView",
            "description": "",
            "description_tooltip": null,
            "layout": "IPY_MODEL_824fcc456ae944da94f4a1a7ecaca35c",
            "placeholder": "​",
            "style": "IPY_MODEL_8ee5d14eddc540028f784ee263e29fd6",
            "value": "config.json: 100%"
          }
        },
        "4add8f096b084a309cfda0bc15c39feb": {
          "model_module": "@jupyter-widgets/controls",
          "model_name": "FloatProgressModel",
          "model_module_version": "1.5.0",
          "state": {
            "_dom_classes": [],
            "_model_module": "@jupyter-widgets/controls",
            "_model_module_version": "1.5.0",
            "_model_name": "FloatProgressModel",
            "_view_count": null,
            "_view_module": "@jupyter-widgets/controls",
            "_view_module_version": "1.5.0",
            "_view_name": "ProgressView",
            "bar_style": "success",
            "description": "",
            "description_tooltip": null,
            "layout": "IPY_MODEL_f681666223cb4833b096b543ce9fa89a",
            "max": 629,
            "min": 0,
            "orientation": "horizontal",
            "style": "IPY_MODEL_1b9e74ffb5914455bb862db2d4921616",
            "value": 629
          }
        },
        "937ed0d6e9024de1af21291ed1f0ca2f": {
          "model_module": "@jupyter-widgets/controls",
          "model_name": "HTMLModel",
          "model_module_version": "1.5.0",
          "state": {
            "_dom_classes": [],
            "_model_module": "@jupyter-widgets/controls",
            "_model_module_version": "1.5.0",
            "_model_name": "HTMLModel",
            "_view_count": null,
            "_view_module": "@jupyter-widgets/controls",
            "_view_module_version": "1.5.0",
            "_view_name": "HTMLView",
            "description": "",
            "description_tooltip": null,
            "layout": "IPY_MODEL_259a620b9be349f79b273e6ba49633b5",
            "placeholder": "​",
            "style": "IPY_MODEL_1c237889928941fd903f65914b52365a",
            "value": " 629/629 [00:00&lt;00:00, 39.1kB/s]"
          }
        },
        "e8724a2eef09453b89dd5857a722e279": {
          "model_module": "@jupyter-widgets/base",
          "model_name": "LayoutModel",
          "model_module_version": "1.2.0",
          "state": {
            "_model_module": "@jupyter-widgets/base",
            "_model_module_version": "1.2.0",
            "_model_name": "LayoutModel",
            "_view_count": null,
            "_view_module": "@jupyter-widgets/base",
            "_view_module_version": "1.2.0",
            "_view_name": "LayoutView",
            "align_content": null,
            "align_items": null,
            "align_self": null,
            "border": null,
            "bottom": null,
            "display": null,
            "flex": null,
            "flex_flow": null,
            "grid_area": null,
            "grid_auto_columns": null,
            "grid_auto_flow": null,
            "grid_auto_rows": null,
            "grid_column": null,
            "grid_gap": null,
            "grid_row": null,
            "grid_template_areas": null,
            "grid_template_columns": null,
            "grid_template_rows": null,
            "height": null,
            "justify_content": null,
            "justify_items": null,
            "left": null,
            "margin": null,
            "max_height": null,
            "max_width": null,
            "min_height": null,
            "min_width": null,
            "object_fit": null,
            "object_position": null,
            "order": null,
            "overflow": null,
            "overflow_x": null,
            "overflow_y": null,
            "padding": null,
            "right": null,
            "top": null,
            "visibility": null,
            "width": null
          }
        },
        "824fcc456ae944da94f4a1a7ecaca35c": {
          "model_module": "@jupyter-widgets/base",
          "model_name": "LayoutModel",
          "model_module_version": "1.2.0",
          "state": {
            "_model_module": "@jupyter-widgets/base",
            "_model_module_version": "1.2.0",
            "_model_name": "LayoutModel",
            "_view_count": null,
            "_view_module": "@jupyter-widgets/base",
            "_view_module_version": "1.2.0",
            "_view_name": "LayoutView",
            "align_content": null,
            "align_items": null,
            "align_self": null,
            "border": null,
            "bottom": null,
            "display": null,
            "flex": null,
            "flex_flow": null,
            "grid_area": null,
            "grid_auto_columns": null,
            "grid_auto_flow": null,
            "grid_auto_rows": null,
            "grid_column": null,
            "grid_gap": null,
            "grid_row": null,
            "grid_template_areas": null,
            "grid_template_columns": null,
            "grid_template_rows": null,
            "height": null,
            "justify_content": null,
            "justify_items": null,
            "left": null,
            "margin": null,
            "max_height": null,
            "max_width": null,
            "min_height": null,
            "min_width": null,
            "object_fit": null,
            "object_position": null,
            "order": null,
            "overflow": null,
            "overflow_x": null,
            "overflow_y": null,
            "padding": null,
            "right": null,
            "top": null,
            "visibility": null,
            "width": null
          }
        },
        "8ee5d14eddc540028f784ee263e29fd6": {
          "model_module": "@jupyter-widgets/controls",
          "model_name": "DescriptionStyleModel",
          "model_module_version": "1.5.0",
          "state": {
            "_model_module": "@jupyter-widgets/controls",
            "_model_module_version": "1.5.0",
            "_model_name": "DescriptionStyleModel",
            "_view_count": null,
            "_view_module": "@jupyter-widgets/base",
            "_view_module_version": "1.2.0",
            "_view_name": "StyleView",
            "description_width": ""
          }
        },
        "f681666223cb4833b096b543ce9fa89a": {
          "model_module": "@jupyter-widgets/base",
          "model_name": "LayoutModel",
          "model_module_version": "1.2.0",
          "state": {
            "_model_module": "@jupyter-widgets/base",
            "_model_module_version": "1.2.0",
            "_model_name": "LayoutModel",
            "_view_count": null,
            "_view_module": "@jupyter-widgets/base",
            "_view_module_version": "1.2.0",
            "_view_name": "LayoutView",
            "align_content": null,
            "align_items": null,
            "align_self": null,
            "border": null,
            "bottom": null,
            "display": null,
            "flex": null,
            "flex_flow": null,
            "grid_area": null,
            "grid_auto_columns": null,
            "grid_auto_flow": null,
            "grid_auto_rows": null,
            "grid_column": null,
            "grid_gap": null,
            "grid_row": null,
            "grid_template_areas": null,
            "grid_template_columns": null,
            "grid_template_rows": null,
            "height": null,
            "justify_content": null,
            "justify_items": null,
            "left": null,
            "margin": null,
            "max_height": null,
            "max_width": null,
            "min_height": null,
            "min_width": null,
            "object_fit": null,
            "object_position": null,
            "order": null,
            "overflow": null,
            "overflow_x": null,
            "overflow_y": null,
            "padding": null,
            "right": null,
            "top": null,
            "visibility": null,
            "width": null
          }
        },
        "1b9e74ffb5914455bb862db2d4921616": {
          "model_module": "@jupyter-widgets/controls",
          "model_name": "ProgressStyleModel",
          "model_module_version": "1.5.0",
          "state": {
            "_model_module": "@jupyter-widgets/controls",
            "_model_module_version": "1.5.0",
            "_model_name": "ProgressStyleModel",
            "_view_count": null,
            "_view_module": "@jupyter-widgets/base",
            "_view_module_version": "1.2.0",
            "_view_name": "StyleView",
            "bar_color": null,
            "description_width": ""
          }
        },
        "259a620b9be349f79b273e6ba49633b5": {
          "model_module": "@jupyter-widgets/base",
          "model_name": "LayoutModel",
          "model_module_version": "1.2.0",
          "state": {
            "_model_module": "@jupyter-widgets/base",
            "_model_module_version": "1.2.0",
            "_model_name": "LayoutModel",
            "_view_count": null,
            "_view_module": "@jupyter-widgets/base",
            "_view_module_version": "1.2.0",
            "_view_name": "LayoutView",
            "align_content": null,
            "align_items": null,
            "align_self": null,
            "border": null,
            "bottom": null,
            "display": null,
            "flex": null,
            "flex_flow": null,
            "grid_area": null,
            "grid_auto_columns": null,
            "grid_auto_flow": null,
            "grid_auto_rows": null,
            "grid_column": null,
            "grid_gap": null,
            "grid_row": null,
            "grid_template_areas": null,
            "grid_template_columns": null,
            "grid_template_rows": null,
            "height": null,
            "justify_content": null,
            "justify_items": null,
            "left": null,
            "margin": null,
            "max_height": null,
            "max_width": null,
            "min_height": null,
            "min_width": null,
            "object_fit": null,
            "object_position": null,
            "order": null,
            "overflow": null,
            "overflow_x": null,
            "overflow_y": null,
            "padding": null,
            "right": null,
            "top": null,
            "visibility": null,
            "width": null
          }
        },
        "1c237889928941fd903f65914b52365a": {
          "model_module": "@jupyter-widgets/controls",
          "model_name": "DescriptionStyleModel",
          "model_module_version": "1.5.0",
          "state": {
            "_model_module": "@jupyter-widgets/controls",
            "_model_module_version": "1.5.0",
            "_model_name": "DescriptionStyleModel",
            "_view_count": null,
            "_view_module": "@jupyter-widgets/base",
            "_view_module_version": "1.2.0",
            "_view_name": "StyleView",
            "description_width": ""
          }
        },
        "1476ea2691b04f59b30bbda552661b11": {
          "model_module": "@jupyter-widgets/controls",
          "model_name": "HBoxModel",
          "model_module_version": "1.5.0",
          "state": {
            "_dom_classes": [],
            "_model_module": "@jupyter-widgets/controls",
            "_model_module_version": "1.5.0",
            "_model_name": "HBoxModel",
            "_view_count": null,
            "_view_module": "@jupyter-widgets/controls",
            "_view_module_version": "1.5.0",
            "_view_name": "HBoxView",
            "box_style": "",
            "children": [
              "IPY_MODEL_4421a5dbf8534811850c6e2a33f82bc4",
              "IPY_MODEL_d95f973a81ec46cf8f1d27ab5d20e0ec",
              "IPY_MODEL_14014332e8be4753a3fdd11f02122e71"
            ],
            "layout": "IPY_MODEL_96668d194d464b91a2ccee4a5f4ac05b"
          }
        },
        "4421a5dbf8534811850c6e2a33f82bc4": {
          "model_module": "@jupyter-widgets/controls",
          "model_name": "HTMLModel",
          "model_module_version": "1.5.0",
          "state": {
            "_dom_classes": [],
            "_model_module": "@jupyter-widgets/controls",
            "_model_module_version": "1.5.0",
            "_model_name": "HTMLModel",
            "_view_count": null,
            "_view_module": "@jupyter-widgets/controls",
            "_view_module_version": "1.5.0",
            "_view_name": "HTMLView",
            "description": "",
            "description_tooltip": null,
            "layout": "IPY_MODEL_66bb8cf099d84bd394d0ac5213ec489f",
            "placeholder": "​",
            "style": "IPY_MODEL_da1a5b4b7fac4ee9a963188ccdbb3ff3",
            "value": "model.safetensors: 100%"
          }
        },
        "d95f973a81ec46cf8f1d27ab5d20e0ec": {
          "model_module": "@jupyter-widgets/controls",
          "model_name": "FloatProgressModel",
          "model_module_version": "1.5.0",
          "state": {
            "_dom_classes": [],
            "_model_module": "@jupyter-widgets/controls",
            "_model_module_version": "1.5.0",
            "_model_name": "FloatProgressModel",
            "_view_count": null,
            "_view_module": "@jupyter-widgets/controls",
            "_view_module_version": "1.5.0",
            "_view_name": "ProgressView",
            "bar_style": "success",
            "description": "",
            "description_tooltip": null,
            "layout": "IPY_MODEL_2b0acae2106f47858e8760e19844f7d6",
            "max": 267832558,
            "min": 0,
            "orientation": "horizontal",
            "style": "IPY_MODEL_824502ca5a6d40d89e6b2960870424d6",
            "value": 267832558
          }
        },
        "14014332e8be4753a3fdd11f02122e71": {
          "model_module": "@jupyter-widgets/controls",
          "model_name": "HTMLModel",
          "model_module_version": "1.5.0",
          "state": {
            "_dom_classes": [],
            "_model_module": "@jupyter-widgets/controls",
            "_model_module_version": "1.5.0",
            "_model_name": "HTMLModel",
            "_view_count": null,
            "_view_module": "@jupyter-widgets/controls",
            "_view_module_version": "1.5.0",
            "_view_name": "HTMLView",
            "description": "",
            "description_tooltip": null,
            "layout": "IPY_MODEL_0137691721ef4dc0b8aca9d66a679817",
            "placeholder": "​",
            "style": "IPY_MODEL_d9f9e096c8dd42fcadb6802c69a9aedf",
            "value": " 268M/268M [00:01&lt;00:00, 244MB/s]"
          }
        },
        "96668d194d464b91a2ccee4a5f4ac05b": {
          "model_module": "@jupyter-widgets/base",
          "model_name": "LayoutModel",
          "model_module_version": "1.2.0",
          "state": {
            "_model_module": "@jupyter-widgets/base",
            "_model_module_version": "1.2.0",
            "_model_name": "LayoutModel",
            "_view_count": null,
            "_view_module": "@jupyter-widgets/base",
            "_view_module_version": "1.2.0",
            "_view_name": "LayoutView",
            "align_content": null,
            "align_items": null,
            "align_self": null,
            "border": null,
            "bottom": null,
            "display": null,
            "flex": null,
            "flex_flow": null,
            "grid_area": null,
            "grid_auto_columns": null,
            "grid_auto_flow": null,
            "grid_auto_rows": null,
            "grid_column": null,
            "grid_gap": null,
            "grid_row": null,
            "grid_template_areas": null,
            "grid_template_columns": null,
            "grid_template_rows": null,
            "height": null,
            "justify_content": null,
            "justify_items": null,
            "left": null,
            "margin": null,
            "max_height": null,
            "max_width": null,
            "min_height": null,
            "min_width": null,
            "object_fit": null,
            "object_position": null,
            "order": null,
            "overflow": null,
            "overflow_x": null,
            "overflow_y": null,
            "padding": null,
            "right": null,
            "top": null,
            "visibility": null,
            "width": null
          }
        },
        "66bb8cf099d84bd394d0ac5213ec489f": {
          "model_module": "@jupyter-widgets/base",
          "model_name": "LayoutModel",
          "model_module_version": "1.2.0",
          "state": {
            "_model_module": "@jupyter-widgets/base",
            "_model_module_version": "1.2.0",
            "_model_name": "LayoutModel",
            "_view_count": null,
            "_view_module": "@jupyter-widgets/base",
            "_view_module_version": "1.2.0",
            "_view_name": "LayoutView",
            "align_content": null,
            "align_items": null,
            "align_self": null,
            "border": null,
            "bottom": null,
            "display": null,
            "flex": null,
            "flex_flow": null,
            "grid_area": null,
            "grid_auto_columns": null,
            "grid_auto_flow": null,
            "grid_auto_rows": null,
            "grid_column": null,
            "grid_gap": null,
            "grid_row": null,
            "grid_template_areas": null,
            "grid_template_columns": null,
            "grid_template_rows": null,
            "height": null,
            "justify_content": null,
            "justify_items": null,
            "left": null,
            "margin": null,
            "max_height": null,
            "max_width": null,
            "min_height": null,
            "min_width": null,
            "object_fit": null,
            "object_position": null,
            "order": null,
            "overflow": null,
            "overflow_x": null,
            "overflow_y": null,
            "padding": null,
            "right": null,
            "top": null,
            "visibility": null,
            "width": null
          }
        },
        "da1a5b4b7fac4ee9a963188ccdbb3ff3": {
          "model_module": "@jupyter-widgets/controls",
          "model_name": "DescriptionStyleModel",
          "model_module_version": "1.5.0",
          "state": {
            "_model_module": "@jupyter-widgets/controls",
            "_model_module_version": "1.5.0",
            "_model_name": "DescriptionStyleModel",
            "_view_count": null,
            "_view_module": "@jupyter-widgets/base",
            "_view_module_version": "1.2.0",
            "_view_name": "StyleView",
            "description_width": ""
          }
        },
        "2b0acae2106f47858e8760e19844f7d6": {
          "model_module": "@jupyter-widgets/base",
          "model_name": "LayoutModel",
          "model_module_version": "1.2.0",
          "state": {
            "_model_module": "@jupyter-widgets/base",
            "_model_module_version": "1.2.0",
            "_model_name": "LayoutModel",
            "_view_count": null,
            "_view_module": "@jupyter-widgets/base",
            "_view_module_version": "1.2.0",
            "_view_name": "LayoutView",
            "align_content": null,
            "align_items": null,
            "align_self": null,
            "border": null,
            "bottom": null,
            "display": null,
            "flex": null,
            "flex_flow": null,
            "grid_area": null,
            "grid_auto_columns": null,
            "grid_auto_flow": null,
            "grid_auto_rows": null,
            "grid_column": null,
            "grid_gap": null,
            "grid_row": null,
            "grid_template_areas": null,
            "grid_template_columns": null,
            "grid_template_rows": null,
            "height": null,
            "justify_content": null,
            "justify_items": null,
            "left": null,
            "margin": null,
            "max_height": null,
            "max_width": null,
            "min_height": null,
            "min_width": null,
            "object_fit": null,
            "object_position": null,
            "order": null,
            "overflow": null,
            "overflow_x": null,
            "overflow_y": null,
            "padding": null,
            "right": null,
            "top": null,
            "visibility": null,
            "width": null
          }
        },
        "824502ca5a6d40d89e6b2960870424d6": {
          "model_module": "@jupyter-widgets/controls",
          "model_name": "ProgressStyleModel",
          "model_module_version": "1.5.0",
          "state": {
            "_model_module": "@jupyter-widgets/controls",
            "_model_module_version": "1.5.0",
            "_model_name": "ProgressStyleModel",
            "_view_count": null,
            "_view_module": "@jupyter-widgets/base",
            "_view_module_version": "1.2.0",
            "_view_name": "StyleView",
            "bar_color": null,
            "description_width": ""
          }
        },
        "0137691721ef4dc0b8aca9d66a679817": {
          "model_module": "@jupyter-widgets/base",
          "model_name": "LayoutModel",
          "model_module_version": "1.2.0",
          "state": {
            "_model_module": "@jupyter-widgets/base",
            "_model_module_version": "1.2.0",
            "_model_name": "LayoutModel",
            "_view_count": null,
            "_view_module": "@jupyter-widgets/base",
            "_view_module_version": "1.2.0",
            "_view_name": "LayoutView",
            "align_content": null,
            "align_items": null,
            "align_self": null,
            "border": null,
            "bottom": null,
            "display": null,
            "flex": null,
            "flex_flow": null,
            "grid_area": null,
            "grid_auto_columns": null,
            "grid_auto_flow": null,
            "grid_auto_rows": null,
            "grid_column": null,
            "grid_gap": null,
            "grid_row": null,
            "grid_template_areas": null,
            "grid_template_columns": null,
            "grid_template_rows": null,
            "height": null,
            "justify_content": null,
            "justify_items": null,
            "left": null,
            "margin": null,
            "max_height": null,
            "max_width": null,
            "min_height": null,
            "min_width": null,
            "object_fit": null,
            "object_position": null,
            "order": null,
            "overflow": null,
            "overflow_x": null,
            "overflow_y": null,
            "padding": null,
            "right": null,
            "top": null,
            "visibility": null,
            "width": null
          }
        },
        "d9f9e096c8dd42fcadb6802c69a9aedf": {
          "model_module": "@jupyter-widgets/controls",
          "model_name": "DescriptionStyleModel",
          "model_module_version": "1.5.0",
          "state": {
            "_model_module": "@jupyter-widgets/controls",
            "_model_module_version": "1.5.0",
            "_model_name": "DescriptionStyleModel",
            "_view_count": null,
            "_view_module": "@jupyter-widgets/base",
            "_view_module_version": "1.2.0",
            "_view_name": "StyleView",
            "description_width": ""
          }
        },
        "a75b8949a8134362a52849092b0c2ddc": {
          "model_module": "@jupyter-widgets/controls",
          "model_name": "HBoxModel",
          "model_module_version": "1.5.0",
          "state": {
            "_dom_classes": [],
            "_model_module": "@jupyter-widgets/controls",
            "_model_module_version": "1.5.0",
            "_model_name": "HBoxModel",
            "_view_count": null,
            "_view_module": "@jupyter-widgets/controls",
            "_view_module_version": "1.5.0",
            "_view_name": "HBoxView",
            "box_style": "",
            "children": [
              "IPY_MODEL_5322e63a00b64a65893d452a422b17ab",
              "IPY_MODEL_190ba10e83f241db85b7d70b17da45e7",
              "IPY_MODEL_cc89094ac06d4ee5887aeec2dfd6137a"
            ],
            "layout": "IPY_MODEL_42ac85dd75d44db3a8959c0a38763c7a"
          }
        },
        "5322e63a00b64a65893d452a422b17ab": {
          "model_module": "@jupyter-widgets/controls",
          "model_name": "HTMLModel",
          "model_module_version": "1.5.0",
          "state": {
            "_dom_classes": [],
            "_model_module": "@jupyter-widgets/controls",
            "_model_module_version": "1.5.0",
            "_model_name": "HTMLModel",
            "_view_count": null,
            "_view_module": "@jupyter-widgets/controls",
            "_view_module_version": "1.5.0",
            "_view_name": "HTMLView",
            "description": "",
            "description_tooltip": null,
            "layout": "IPY_MODEL_3094e082869544d5889508a6444190d6",
            "placeholder": "​",
            "style": "IPY_MODEL_050f5285be164d07ad9dd634da596549",
            "value": "tokenizer_config.json: 100%"
          }
        },
        "190ba10e83f241db85b7d70b17da45e7": {
          "model_module": "@jupyter-widgets/controls",
          "model_name": "FloatProgressModel",
          "model_module_version": "1.5.0",
          "state": {
            "_dom_classes": [],
            "_model_module": "@jupyter-widgets/controls",
            "_model_module_version": "1.5.0",
            "_model_name": "FloatProgressModel",
            "_view_count": null,
            "_view_module": "@jupyter-widgets/controls",
            "_view_module_version": "1.5.0",
            "_view_name": "ProgressView",
            "bar_style": "success",
            "description": "",
            "description_tooltip": null,
            "layout": "IPY_MODEL_e97a6ac0bcc44c368fb7276836815c08",
            "max": 48,
            "min": 0,
            "orientation": "horizontal",
            "style": "IPY_MODEL_e2a68f0405de41c5ac502186d5c9680e",
            "value": 48
          }
        },
        "cc89094ac06d4ee5887aeec2dfd6137a": {
          "model_module": "@jupyter-widgets/controls",
          "model_name": "HTMLModel",
          "model_module_version": "1.5.0",
          "state": {
            "_dom_classes": [],
            "_model_module": "@jupyter-widgets/controls",
            "_model_module_version": "1.5.0",
            "_model_name": "HTMLModel",
            "_view_count": null,
            "_view_module": "@jupyter-widgets/controls",
            "_view_module_version": "1.5.0",
            "_view_name": "HTMLView",
            "description": "",
            "description_tooltip": null,
            "layout": "IPY_MODEL_9388a0c92f984d3eb9f9a967f2f86b1d",
            "placeholder": "​",
            "style": "IPY_MODEL_d7cac90167fa47568136d755e98e08f2",
            "value": " 48.0/48.0 [00:00&lt;00:00, 2.69kB/s]"
          }
        },
        "42ac85dd75d44db3a8959c0a38763c7a": {
          "model_module": "@jupyter-widgets/base",
          "model_name": "LayoutModel",
          "model_module_version": "1.2.0",
          "state": {
            "_model_module": "@jupyter-widgets/base",
            "_model_module_version": "1.2.0",
            "_model_name": "LayoutModel",
            "_view_count": null,
            "_view_module": "@jupyter-widgets/base",
            "_view_module_version": "1.2.0",
            "_view_name": "LayoutView",
            "align_content": null,
            "align_items": null,
            "align_self": null,
            "border": null,
            "bottom": null,
            "display": null,
            "flex": null,
            "flex_flow": null,
            "grid_area": null,
            "grid_auto_columns": null,
            "grid_auto_flow": null,
            "grid_auto_rows": null,
            "grid_column": null,
            "grid_gap": null,
            "grid_row": null,
            "grid_template_areas": null,
            "grid_template_columns": null,
            "grid_template_rows": null,
            "height": null,
            "justify_content": null,
            "justify_items": null,
            "left": null,
            "margin": null,
            "max_height": null,
            "max_width": null,
            "min_height": null,
            "min_width": null,
            "object_fit": null,
            "object_position": null,
            "order": null,
            "overflow": null,
            "overflow_x": null,
            "overflow_y": null,
            "padding": null,
            "right": null,
            "top": null,
            "visibility": null,
            "width": null
          }
        },
        "3094e082869544d5889508a6444190d6": {
          "model_module": "@jupyter-widgets/base",
          "model_name": "LayoutModel",
          "model_module_version": "1.2.0",
          "state": {
            "_model_module": "@jupyter-widgets/base",
            "_model_module_version": "1.2.0",
            "_model_name": "LayoutModel",
            "_view_count": null,
            "_view_module": "@jupyter-widgets/base",
            "_view_module_version": "1.2.0",
            "_view_name": "LayoutView",
            "align_content": null,
            "align_items": null,
            "align_self": null,
            "border": null,
            "bottom": null,
            "display": null,
            "flex": null,
            "flex_flow": null,
            "grid_area": null,
            "grid_auto_columns": null,
            "grid_auto_flow": null,
            "grid_auto_rows": null,
            "grid_column": null,
            "grid_gap": null,
            "grid_row": null,
            "grid_template_areas": null,
            "grid_template_columns": null,
            "grid_template_rows": null,
            "height": null,
            "justify_content": null,
            "justify_items": null,
            "left": null,
            "margin": null,
            "max_height": null,
            "max_width": null,
            "min_height": null,
            "min_width": null,
            "object_fit": null,
            "object_position": null,
            "order": null,
            "overflow": null,
            "overflow_x": null,
            "overflow_y": null,
            "padding": null,
            "right": null,
            "top": null,
            "visibility": null,
            "width": null
          }
        },
        "050f5285be164d07ad9dd634da596549": {
          "model_module": "@jupyter-widgets/controls",
          "model_name": "DescriptionStyleModel",
          "model_module_version": "1.5.0",
          "state": {
            "_model_module": "@jupyter-widgets/controls",
            "_model_module_version": "1.5.0",
            "_model_name": "DescriptionStyleModel",
            "_view_count": null,
            "_view_module": "@jupyter-widgets/base",
            "_view_module_version": "1.2.0",
            "_view_name": "StyleView",
            "description_width": ""
          }
        },
        "e97a6ac0bcc44c368fb7276836815c08": {
          "model_module": "@jupyter-widgets/base",
          "model_name": "LayoutModel",
          "model_module_version": "1.2.0",
          "state": {
            "_model_module": "@jupyter-widgets/base",
            "_model_module_version": "1.2.0",
            "_model_name": "LayoutModel",
            "_view_count": null,
            "_view_module": "@jupyter-widgets/base",
            "_view_module_version": "1.2.0",
            "_view_name": "LayoutView",
            "align_content": null,
            "align_items": null,
            "align_self": null,
            "border": null,
            "bottom": null,
            "display": null,
            "flex": null,
            "flex_flow": null,
            "grid_area": null,
            "grid_auto_columns": null,
            "grid_auto_flow": null,
            "grid_auto_rows": null,
            "grid_column": null,
            "grid_gap": null,
            "grid_row": null,
            "grid_template_areas": null,
            "grid_template_columns": null,
            "grid_template_rows": null,
            "height": null,
            "justify_content": null,
            "justify_items": null,
            "left": null,
            "margin": null,
            "max_height": null,
            "max_width": null,
            "min_height": null,
            "min_width": null,
            "object_fit": null,
            "object_position": null,
            "order": null,
            "overflow": null,
            "overflow_x": null,
            "overflow_y": null,
            "padding": null,
            "right": null,
            "top": null,
            "visibility": null,
            "width": null
          }
        },
        "e2a68f0405de41c5ac502186d5c9680e": {
          "model_module": "@jupyter-widgets/controls",
          "model_name": "ProgressStyleModel",
          "model_module_version": "1.5.0",
          "state": {
            "_model_module": "@jupyter-widgets/controls",
            "_model_module_version": "1.5.0",
            "_model_name": "ProgressStyleModel",
            "_view_count": null,
            "_view_module": "@jupyter-widgets/base",
            "_view_module_version": "1.2.0",
            "_view_name": "StyleView",
            "bar_color": null,
            "description_width": ""
          }
        },
        "9388a0c92f984d3eb9f9a967f2f86b1d": {
          "model_module": "@jupyter-widgets/base",
          "model_name": "LayoutModel",
          "model_module_version": "1.2.0",
          "state": {
            "_model_module": "@jupyter-widgets/base",
            "_model_module_version": "1.2.0",
            "_model_name": "LayoutModel",
            "_view_count": null,
            "_view_module": "@jupyter-widgets/base",
            "_view_module_version": "1.2.0",
            "_view_name": "LayoutView",
            "align_content": null,
            "align_items": null,
            "align_self": null,
            "border": null,
            "bottom": null,
            "display": null,
            "flex": null,
            "flex_flow": null,
            "grid_area": null,
            "grid_auto_columns": null,
            "grid_auto_flow": null,
            "grid_auto_rows": null,
            "grid_column": null,
            "grid_gap": null,
            "grid_row": null,
            "grid_template_areas": null,
            "grid_template_columns": null,
            "grid_template_rows": null,
            "height": null,
            "justify_content": null,
            "justify_items": null,
            "left": null,
            "margin": null,
            "max_height": null,
            "max_width": null,
            "min_height": null,
            "min_width": null,
            "object_fit": null,
            "object_position": null,
            "order": null,
            "overflow": null,
            "overflow_x": null,
            "overflow_y": null,
            "padding": null,
            "right": null,
            "top": null,
            "visibility": null,
            "width": null
          }
        },
        "d7cac90167fa47568136d755e98e08f2": {
          "model_module": "@jupyter-widgets/controls",
          "model_name": "DescriptionStyleModel",
          "model_module_version": "1.5.0",
          "state": {
            "_model_module": "@jupyter-widgets/controls",
            "_model_module_version": "1.5.0",
            "_model_name": "DescriptionStyleModel",
            "_view_count": null,
            "_view_module": "@jupyter-widgets/base",
            "_view_module_version": "1.2.0",
            "_view_name": "StyleView",
            "description_width": ""
          }
        },
        "09744a3616674ba8a673e05b236bf9f0": {
          "model_module": "@jupyter-widgets/controls",
          "model_name": "HBoxModel",
          "model_module_version": "1.5.0",
          "state": {
            "_dom_classes": [],
            "_model_module": "@jupyter-widgets/controls",
            "_model_module_version": "1.5.0",
            "_model_name": "HBoxModel",
            "_view_count": null,
            "_view_module": "@jupyter-widgets/controls",
            "_view_module_version": "1.5.0",
            "_view_name": "HBoxView",
            "box_style": "",
            "children": [
              "IPY_MODEL_6e92077c67304770bbccf79bd414255e",
              "IPY_MODEL_142031a0c6344c799e8e5c11b69ee3ff",
              "IPY_MODEL_4d0790b11b34401f9dd7ceff03cb6a58"
            ],
            "layout": "IPY_MODEL_87fb1ea0af0d48b39589289ea79b9779"
          }
        },
        "6e92077c67304770bbccf79bd414255e": {
          "model_module": "@jupyter-widgets/controls",
          "model_name": "HTMLModel",
          "model_module_version": "1.5.0",
          "state": {
            "_dom_classes": [],
            "_model_module": "@jupyter-widgets/controls",
            "_model_module_version": "1.5.0",
            "_model_name": "HTMLModel",
            "_view_count": null,
            "_view_module": "@jupyter-widgets/controls",
            "_view_module_version": "1.5.0",
            "_view_name": "HTMLView",
            "description": "",
            "description_tooltip": null,
            "layout": "IPY_MODEL_221c396383ec4578837e47e285fd9e22",
            "placeholder": "​",
            "style": "IPY_MODEL_368dc72a6e064ff982a4a0f28134b1f5",
            "value": "vocab.txt: 100%"
          }
        },
        "142031a0c6344c799e8e5c11b69ee3ff": {
          "model_module": "@jupyter-widgets/controls",
          "model_name": "FloatProgressModel",
          "model_module_version": "1.5.0",
          "state": {
            "_dom_classes": [],
            "_model_module": "@jupyter-widgets/controls",
            "_model_module_version": "1.5.0",
            "_model_name": "FloatProgressModel",
            "_view_count": null,
            "_view_module": "@jupyter-widgets/controls",
            "_view_module_version": "1.5.0",
            "_view_name": "ProgressView",
            "bar_style": "success",
            "description": "",
            "description_tooltip": null,
            "layout": "IPY_MODEL_28a002307d304dfca2786cfcb2d7517c",
            "max": 231508,
            "min": 0,
            "orientation": "horizontal",
            "style": "IPY_MODEL_22bd206baeff4610872b8a5508f216c3",
            "value": 231508
          }
        },
        "4d0790b11b34401f9dd7ceff03cb6a58": {
          "model_module": "@jupyter-widgets/controls",
          "model_name": "HTMLModel",
          "model_module_version": "1.5.0",
          "state": {
            "_dom_classes": [],
            "_model_module": "@jupyter-widgets/controls",
            "_model_module_version": "1.5.0",
            "_model_name": "HTMLModel",
            "_view_count": null,
            "_view_module": "@jupyter-widgets/controls",
            "_view_module_version": "1.5.0",
            "_view_name": "HTMLView",
            "description": "",
            "description_tooltip": null,
            "layout": "IPY_MODEL_b7f8dc7f175845ae80cb5d7e337a1455",
            "placeholder": "​",
            "style": "IPY_MODEL_2c3462e2dded49cc9fe78c3392661771",
            "value": " 232k/232k [00:00&lt;00:00, 8.11MB/s]"
          }
        },
        "87fb1ea0af0d48b39589289ea79b9779": {
          "model_module": "@jupyter-widgets/base",
          "model_name": "LayoutModel",
          "model_module_version": "1.2.0",
          "state": {
            "_model_module": "@jupyter-widgets/base",
            "_model_module_version": "1.2.0",
            "_model_name": "LayoutModel",
            "_view_count": null,
            "_view_module": "@jupyter-widgets/base",
            "_view_module_version": "1.2.0",
            "_view_name": "LayoutView",
            "align_content": null,
            "align_items": null,
            "align_self": null,
            "border": null,
            "bottom": null,
            "display": null,
            "flex": null,
            "flex_flow": null,
            "grid_area": null,
            "grid_auto_columns": null,
            "grid_auto_flow": null,
            "grid_auto_rows": null,
            "grid_column": null,
            "grid_gap": null,
            "grid_row": null,
            "grid_template_areas": null,
            "grid_template_columns": null,
            "grid_template_rows": null,
            "height": null,
            "justify_content": null,
            "justify_items": null,
            "left": null,
            "margin": null,
            "max_height": null,
            "max_width": null,
            "min_height": null,
            "min_width": null,
            "object_fit": null,
            "object_position": null,
            "order": null,
            "overflow": null,
            "overflow_x": null,
            "overflow_y": null,
            "padding": null,
            "right": null,
            "top": null,
            "visibility": null,
            "width": null
          }
        },
        "221c396383ec4578837e47e285fd9e22": {
          "model_module": "@jupyter-widgets/base",
          "model_name": "LayoutModel",
          "model_module_version": "1.2.0",
          "state": {
            "_model_module": "@jupyter-widgets/base",
            "_model_module_version": "1.2.0",
            "_model_name": "LayoutModel",
            "_view_count": null,
            "_view_module": "@jupyter-widgets/base",
            "_view_module_version": "1.2.0",
            "_view_name": "LayoutView",
            "align_content": null,
            "align_items": null,
            "align_self": null,
            "border": null,
            "bottom": null,
            "display": null,
            "flex": null,
            "flex_flow": null,
            "grid_area": null,
            "grid_auto_columns": null,
            "grid_auto_flow": null,
            "grid_auto_rows": null,
            "grid_column": null,
            "grid_gap": null,
            "grid_row": null,
            "grid_template_areas": null,
            "grid_template_columns": null,
            "grid_template_rows": null,
            "height": null,
            "justify_content": null,
            "justify_items": null,
            "left": null,
            "margin": null,
            "max_height": null,
            "max_width": null,
            "min_height": null,
            "min_width": null,
            "object_fit": null,
            "object_position": null,
            "order": null,
            "overflow": null,
            "overflow_x": null,
            "overflow_y": null,
            "padding": null,
            "right": null,
            "top": null,
            "visibility": null,
            "width": null
          }
        },
        "368dc72a6e064ff982a4a0f28134b1f5": {
          "model_module": "@jupyter-widgets/controls",
          "model_name": "DescriptionStyleModel",
          "model_module_version": "1.5.0",
          "state": {
            "_model_module": "@jupyter-widgets/controls",
            "_model_module_version": "1.5.0",
            "_model_name": "DescriptionStyleModel",
            "_view_count": null,
            "_view_module": "@jupyter-widgets/base",
            "_view_module_version": "1.2.0",
            "_view_name": "StyleView",
            "description_width": ""
          }
        },
        "28a002307d304dfca2786cfcb2d7517c": {
          "model_module": "@jupyter-widgets/base",
          "model_name": "LayoutModel",
          "model_module_version": "1.2.0",
          "state": {
            "_model_module": "@jupyter-widgets/base",
            "_model_module_version": "1.2.0",
            "_model_name": "LayoutModel",
            "_view_count": null,
            "_view_module": "@jupyter-widgets/base",
            "_view_module_version": "1.2.0",
            "_view_name": "LayoutView",
            "align_content": null,
            "align_items": null,
            "align_self": null,
            "border": null,
            "bottom": null,
            "display": null,
            "flex": null,
            "flex_flow": null,
            "grid_area": null,
            "grid_auto_columns": null,
            "grid_auto_flow": null,
            "grid_auto_rows": null,
            "grid_column": null,
            "grid_gap": null,
            "grid_row": null,
            "grid_template_areas": null,
            "grid_template_columns": null,
            "grid_template_rows": null,
            "height": null,
            "justify_content": null,
            "justify_items": null,
            "left": null,
            "margin": null,
            "max_height": null,
            "max_width": null,
            "min_height": null,
            "min_width": null,
            "object_fit": null,
            "object_position": null,
            "order": null,
            "overflow": null,
            "overflow_x": null,
            "overflow_y": null,
            "padding": null,
            "right": null,
            "top": null,
            "visibility": null,
            "width": null
          }
        },
        "22bd206baeff4610872b8a5508f216c3": {
          "model_module": "@jupyter-widgets/controls",
          "model_name": "ProgressStyleModel",
          "model_module_version": "1.5.0",
          "state": {
            "_model_module": "@jupyter-widgets/controls",
            "_model_module_version": "1.5.0",
            "_model_name": "ProgressStyleModel",
            "_view_count": null,
            "_view_module": "@jupyter-widgets/base",
            "_view_module_version": "1.2.0",
            "_view_name": "StyleView",
            "bar_color": null,
            "description_width": ""
          }
        },
        "b7f8dc7f175845ae80cb5d7e337a1455": {
          "model_module": "@jupyter-widgets/base",
          "model_name": "LayoutModel",
          "model_module_version": "1.2.0",
          "state": {
            "_model_module": "@jupyter-widgets/base",
            "_model_module_version": "1.2.0",
            "_model_name": "LayoutModel",
            "_view_count": null,
            "_view_module": "@jupyter-widgets/base",
            "_view_module_version": "1.2.0",
            "_view_name": "LayoutView",
            "align_content": null,
            "align_items": null,
            "align_self": null,
            "border": null,
            "bottom": null,
            "display": null,
            "flex": null,
            "flex_flow": null,
            "grid_area": null,
            "grid_auto_columns": null,
            "grid_auto_flow": null,
            "grid_auto_rows": null,
            "grid_column": null,
            "grid_gap": null,
            "grid_row": null,
            "grid_template_areas": null,
            "grid_template_columns": null,
            "grid_template_rows": null,
            "height": null,
            "justify_content": null,
            "justify_items": null,
            "left": null,
            "margin": null,
            "max_height": null,
            "max_width": null,
            "min_height": null,
            "min_width": null,
            "object_fit": null,
            "object_position": null,
            "order": null,
            "overflow": null,
            "overflow_x": null,
            "overflow_y": null,
            "padding": null,
            "right": null,
            "top": null,
            "visibility": null,
            "width": null
          }
        },
        "2c3462e2dded49cc9fe78c3392661771": {
          "model_module": "@jupyter-widgets/controls",
          "model_name": "DescriptionStyleModel",
          "model_module_version": "1.5.0",
          "state": {
            "_model_module": "@jupyter-widgets/controls",
            "_model_module_version": "1.5.0",
            "_model_name": "DescriptionStyleModel",
            "_view_count": null,
            "_view_module": "@jupyter-widgets/base",
            "_view_module_version": "1.2.0",
            "_view_name": "StyleView",
            "description_width": ""
          }
        }
      }
    }
  },
  "cells": [
    {
      "cell_type": "markdown",
      "source": [
        "# Sentiment Analysis\n",
        "\n",
        "Using the previous web scraping methods and the current milestone, we have built this block of code that can retrieve, score, and plot sentiments accordingly.\n",
        "\n",
        "This code snippet fetches product reviews from a Snapdeal product page. It uses the requests library to make an HTTP GET request to the URL, then parses the HTML content of the page with BeautifulSoup. The find_all method identifies all div elements with the class user-review, where the reviews are likely stored. The text content of these reviews is extracted, stripped of extra whitespace, and returned as a list."
      ],
      "metadata": {
        "id": "JKjbWclO1-xP"
      }
    },
    {
      "cell_type": "code",
      "execution_count": null,
      "metadata": {
        "colab": {
          "base_uri": "https://localhost:8080/"
        },
        "id": "xgwvW3AZ-CO2",
        "outputId": "c5f487cf-6a81-4633-f5da-833f053042a2"
      },
      "outputs": [
        {
          "output_type": "stream",
          "name": "stdout",
          "text": [
            "Scraping completed and data saved to 'snapdeal_product_reviews.csv'.\n"
          ]
        }
      ],
      "source": [
        "import requests\n",
        "from bs4 import BeautifulSoup\n",
        "import pandas as pd\n",
        "\n",
        "def scrape_snapdeal_reviews():\n",
        "    headers = {\n",
        "        'User-Agent': 'Mozilla/5.0 (Windows NT 10.0; Win64; x64) AppleWebKit/537.36 (KHTML, like Gecko) Chrome/94.0.4606.81 Safari/537.36'\n",
        "    }\n",
        "    #Trial with different URLs\n",
        "    url ='https://www.snapdeal.com/product/plastic-quick-cutter-vegetable-cutter/633340889475/reviews?page=13&sortBy=HELPFUL#defRevPDP'\n",
        "    #url ='https://www.snapdeal.com/product/plastic-quick-cutter-vegetable-cutter/633340889475/reviews?page=12&sortBy=HELPFUL#defRevPDP'\n",
        "    #url = 'https://www.snapdeal.com/product/plastic-quick-cutter-vegetable-cutter/633340889475/reviews?page=2&sortBy=HELPFUL#defRevPDP'\n",
        "    response = requests.get(url, headers=headers)\n",
        "\n",
        "    if response.status_code != 200:\n",
        "        print(f\"Failed to retrieve the webpage: {response.status_code}\")\n",
        "        return\n",
        "\n",
        "    soup = BeautifulSoup(response.text, 'html.parser')\n",
        "\n",
        "    # Extract reviews\n",
        "    reviews = soup.find_all('div', class_='user-review')\n",
        "    if not reviews:\n",
        "        print(\"No reviews found. The site may be loading reviews dynamically with JavaScript.\")\n",
        "        return\n",
        "\n",
        "    review_data = []\n",
        "\n",
        "    for review in reviews:\n",
        "        # Extract rating\n",
        "        rating = review.find_all('i', class_='sd-icon sd-icon-star active')\n",
        "        review_rating = len(rating)\n",
        "\n",
        "        # Extract review title\n",
        "        title_tag = review.find('div', class_='head')\n",
        "\n",
        "        review_title = title_tag.text.strip() if title_tag else 'No Title'\n",
        "\n",
        "        # Extract user name and date\n",
        "        user_date_tag = review.find('div', class_='_reviewUserName')\n",
        "        if user_date_tag:\n",
        "            user_date_text = user_date_tag.text.strip()\n",
        "            user_name, review_date = user_date_text.split(' on ') if ' on ' in user_date_text else (user_date_text, 'No Date')\n",
        "        else:\n",
        "            user_name = 'Anonymous'\n",
        "            review_date = 'No Date'\n",
        "\n",
        "        # Extract review text\n",
        "        text_tag = review.find('p')\n",
        "        review_text = text_tag.text.strip() if text_tag else 'No Review Text'\n",
        "        if review_date==\"No Date\":\n",
        "          pass\n",
        "        else:\n",
        "          review_data.append({\n",
        "              'Rating': review_rating,\n",
        "              'Review Title': review_title,\n",
        "              'User Name': user_name,\n",
        "              'Date': review_date,\n",
        "              'Review Text': review_text\n",
        "          })\n",
        "\n",
        "    # Save to CSV\n",
        "    df = pd.DataFrame(review_data)\n",
        "    df.to_csv('snapdeal_product_reviews.csv', index=False)\n",
        "    print(\"Scraping completed and data saved to 'snapdeal_product_reviews.csv'.\")\n",
        "\n",
        "# Execute the scraping function\n",
        "scrape_snapdeal_reviews()"
      ]
    },
    {
      "cell_type": "markdown",
      "source": [
        "**Importing Necessary Header files <br>**\n",
        "**Also calling the sentiment analysis model<br>**\n",
        "This snippet imports necessary libraries for data handling, visualization, and sentiment analysis. It initializes a sentiment analysis pipeline using a pre-trained DistilBERT model, optimized for positive and negative sentiment classification."
      ],
      "metadata": {
        "id": "k1aTyph0ye0w"
      }
    },
    {
      "cell_type": "code",
      "source": [
        "import pandas as pd\n",
        "from transformers import pipeline\n",
        "import matplotlib.pyplot as plt\n",
        "\n",
        "sentiment_analyzer = pipeline(\n",
        "    \"sentiment-analysis\", model=\"distilbert-base-uncased-finetuned-sst-2-english\", device=0\n",
        ")"
      ],
      "metadata": {
        "id": "vSUoheqVxvIc",
        "colab": {
          "base_uri": "https://localhost:8080/",
          "height": 286,
          "referenced_widgets": [
            "83104c1e0bcb42feb75a0ab5ca9db6ec",
            "b6e77e0ca66e41ccbcbae654501079ad",
            "4add8f096b084a309cfda0bc15c39feb",
            "937ed0d6e9024de1af21291ed1f0ca2f",
            "e8724a2eef09453b89dd5857a722e279",
            "824fcc456ae944da94f4a1a7ecaca35c",
            "8ee5d14eddc540028f784ee263e29fd6",
            "f681666223cb4833b096b543ce9fa89a",
            "1b9e74ffb5914455bb862db2d4921616",
            "259a620b9be349f79b273e6ba49633b5",
            "1c237889928941fd903f65914b52365a",
            "1476ea2691b04f59b30bbda552661b11",
            "4421a5dbf8534811850c6e2a33f82bc4",
            "d95f973a81ec46cf8f1d27ab5d20e0ec",
            "14014332e8be4753a3fdd11f02122e71",
            "96668d194d464b91a2ccee4a5f4ac05b",
            "66bb8cf099d84bd394d0ac5213ec489f",
            "da1a5b4b7fac4ee9a963188ccdbb3ff3",
            "2b0acae2106f47858e8760e19844f7d6",
            "824502ca5a6d40d89e6b2960870424d6",
            "0137691721ef4dc0b8aca9d66a679817",
            "d9f9e096c8dd42fcadb6802c69a9aedf",
            "a75b8949a8134362a52849092b0c2ddc",
            "5322e63a00b64a65893d452a422b17ab",
            "190ba10e83f241db85b7d70b17da45e7",
            "cc89094ac06d4ee5887aeec2dfd6137a",
            "42ac85dd75d44db3a8959c0a38763c7a",
            "3094e082869544d5889508a6444190d6",
            "050f5285be164d07ad9dd634da596549",
            "e97a6ac0bcc44c368fb7276836815c08",
            "e2a68f0405de41c5ac502186d5c9680e",
            "9388a0c92f984d3eb9f9a967f2f86b1d",
            "d7cac90167fa47568136d755e98e08f2",
            "09744a3616674ba8a673e05b236bf9f0",
            "6e92077c67304770bbccf79bd414255e",
            "142031a0c6344c799e8e5c11b69ee3ff",
            "4d0790b11b34401f9dd7ceff03cb6a58",
            "87fb1ea0af0d48b39589289ea79b9779",
            "221c396383ec4578837e47e285fd9e22",
            "368dc72a6e064ff982a4a0f28134b1f5",
            "28a002307d304dfca2786cfcb2d7517c",
            "22bd206baeff4610872b8a5508f216c3",
            "b7f8dc7f175845ae80cb5d7e337a1455",
            "2c3462e2dded49cc9fe78c3392661771"
          ]
        },
        "outputId": "fa8aa26b-99af-42ef-b9de-bb564b9958b9"
      },
      "execution_count": null,
      "outputs": [
        {
          "output_type": "stream",
          "name": "stderr",
          "text": [
            "/usr/local/lib/python3.10/dist-packages/huggingface_hub/utils/_auth.py:94: UserWarning: \n",
            "The secret `HF_TOKEN` does not exist in your Colab secrets.\n",
            "To authenticate with the Hugging Face Hub, create a token in your settings tab (https://huggingface.co/settings/tokens), set it as secret in your Google Colab and restart your session.\n",
            "You will be able to reuse this secret in all of your notebooks.\n",
            "Please note that authentication is recommended but still optional to access public models or datasets.\n",
            "  warnings.warn(\n"
          ]
        },
        {
          "output_type": "display_data",
          "data": {
            "text/plain": [
              "config.json:   0%|          | 0.00/629 [00:00<?, ?B/s]"
            ],
            "application/vnd.jupyter.widget-view+json": {
              "version_major": 2,
              "version_minor": 0,
              "model_id": "83104c1e0bcb42feb75a0ab5ca9db6ec"
            }
          },
          "metadata": {}
        },
        {
          "output_type": "display_data",
          "data": {
            "text/plain": [
              "model.safetensors:   0%|          | 0.00/268M [00:00<?, ?B/s]"
            ],
            "application/vnd.jupyter.widget-view+json": {
              "version_major": 2,
              "version_minor": 0,
              "model_id": "1476ea2691b04f59b30bbda552661b11"
            }
          },
          "metadata": {}
        },
        {
          "output_type": "display_data",
          "data": {
            "text/plain": [
              "tokenizer_config.json:   0%|          | 0.00/48.0 [00:00<?, ?B/s]"
            ],
            "application/vnd.jupyter.widget-view+json": {
              "version_major": 2,
              "version_minor": 0,
              "model_id": "a75b8949a8134362a52849092b0c2ddc"
            }
          },
          "metadata": {}
        },
        {
          "output_type": "display_data",
          "data": {
            "text/plain": [
              "vocab.txt:   0%|          | 0.00/232k [00:00<?, ?B/s]"
            ],
            "application/vnd.jupyter.widget-view+json": {
              "version_major": 2,
              "version_minor": 0,
              "model_id": "09744a3616674ba8a673e05b236bf9f0"
            }
          },
          "metadata": {}
        },
        {
          "output_type": "stream",
          "name": "stderr",
          "text": [
            "Device set to use cpu\n"
          ]
        }
      ]
    },
    {
      "cell_type": "markdown",
      "source": [
        "**Function to convert the date into 'Date Time ' Datatype<br>**\n",
        "This function reads a CSV file containing review data and converts the \"Date\" column into a datetime format for easier processing. It ensures that dates are in a usable format for analysis. Finally, it returns the processed data."
      ],
      "metadata": {
        "id": "hGx-hUGlyo7c"
      }
    },
    {
      "cell_type": "code",
      "source": [
        "def preprocess_review_data(file_path):\n",
        "    data = pd.read_csv(file_path)\n",
        "    data[\"Date\"] = pd.to_datetime(data[\"Date\"])\n",
        "    return data"
      ],
      "metadata": {
        "id": "PTeG_j4ryErl"
      },
      "execution_count": null,
      "outputs": []
    },
    {
      "cell_type": "markdown",
      "source": [
        "**Function which analyses the sentiment<br>**\n",
        "This function determines the sentiment of a given text using the sentiment analysis model. It analyzes the text and returns the sentiment label, such as \"POSITIVE\" or \"NEGATIVE.\" If an error occurs during analysis, it logs the error message and assigns a default sentiment of \"NEUTRAL.\" This ensures robust handling of any issues."
      ],
      "metadata": {
        "id": "MDvPhXwvywMY"
      }
    },
    {
      "cell_type": "code",
      "source": [
        "def get_sentiment(text):\n",
        "    try:\n",
        "        result = sentiment_analyzer(text)\n",
        "        print(f\"Sentiment result for '{text}': {result}\")\n",
        "        sentiment = result[0][\"label\"]\n",
        "        return sentiment\n",
        "    except Exception as e:\n",
        "        print(f\"Error analyzing sentiment for text: {text}, Error: {e}\")\n",
        "        return \"NEUTRAL\""
      ],
      "metadata": {
        "id": "OCJlUB_7yF4Z"
      },
      "execution_count": null,
      "outputs": []
    },
    {
      "cell_type": "markdown",
      "source": [
        "**This function rates the sentiment score and decides whether it is positive , negative or Neutral<br>**\n",
        "This function prepares the dataset for sentiment trend analysis. It converts the Date column into a datetime format for easier grouping. The Sentiment_Label column is mapped to numerical values (1 for positive, -1 for negative), enabling computation. Sentiment scores are averaged for each date using groupby and returned as a DataFrame."
      ],
      "metadata": {
        "id": "mIWRV6Jky4xj"
      }
    },
    {
      "cell_type": "code",
      "source": [
        "def aggregate_sentiment(sentiment_df):\n",
        "    # Create separate columns for positive and negative sentiment counts\n",
        "    sentiment_df[\"positive\"] = sentiment_df[\"sentiment\"].apply(lambda x: 1 if x == \"POSITIVE\" else 0)\n",
        "    sentiment_df[\"negative\"] = sentiment_df[\"sentiment\"].apply(lambda x: 1 if x == \"NEGATIVE\" else 0)\n",
        "\n",
        "    # Group by Date and calculate the total counts for positive and negative\n",
        "    sentiment_agg = sentiment_df.groupby(\"Date\")[[\"positive\", \"negative\"]].sum().reset_index()\n",
        "    return sentiment_agg"
      ],
      "metadata": {
        "id": "gHvrfksGyJgq"
      },
      "execution_count": null,
      "outputs": []
    },
    {
      "cell_type": "markdown",
      "source": [
        "**This function plots the sentiment into a Histogram<br>**\n",
        "This function creates a histogram to visualize the distribution of sentiments in the provided DataFrame. It counts the occurrences of each sentiment label (positive or negative), then plots a bar chart where positive sentiments are shown in green and negative ones in red. The chart includes labels for clarity and is displayed using plt.show()."
      ],
      "metadata": {
        "id": "qxzVoKl3yL6g"
      }
    },
    {
      "cell_type": "code",
      "source": [
        "def plot_sentiment_histogram(sentiment_df):\n",
        "    sentiment_counts = sentiment_df[\"sentiment\"].value_counts()\n",
        "    sentiments = sentiment_counts.index.tolist()\n",
        "    counts = sentiment_counts.values.tolist()\n",
        "    plt.bar(sentiments, counts, color=[\"green\", \"red\"])  # Positive (green) and Negative (red)\n",
        "    plt.title(\"Sentiment Histogram\")\n",
        "    plt.xlabel(\"Sentiment\")\n",
        "    plt.ylabel(\"Count\")\n",
        "    plt.show()"
      ],
      "metadata": {
        "id": "NxSkG5V2yPcW"
      },
      "execution_count": null,
      "outputs": []
    },
    {
      "cell_type": "markdown",
      "source": [
        "**This function plots a regression analysis of the Data obtained<br>**\n",
        "This snippet fits a linear regression model to the sentiment trend data, providing a trend line. The independent variable x represents the index of the dates, while the dependent variable y contains the sentiment scores. The model's predictions are plotted as a red line alongside the scatter plot of actual sentiment scores for visual comparison."
      ],
      "metadata": {
        "id": "aZgNU1P2zGS8"
      }
    },
    {
      "cell_type": "code",
      "source": [
        "from sklearn.linear_model import LinearRegression\n",
        "\n",
        "def plot_sentiment_with_regression(sentiment_agg):\n",
        "    sentiment_agg[\"ordinal_date\"] = sentiment_agg[\"Date\"].apply(lambda x: x.toordinal())\n",
        "    X = sentiment_agg[\"ordinal_date\"].values.reshape(-1, 1)\n",
        "    y = sentiment_agg[\"positive\"].values\n",
        "    model = LinearRegression()\n",
        "    model.fit(X, y)\n",
        "    y_pred = model.predict(X)\n",
        "    plt.scatter(sentiment_agg[\"Date\"], sentiment_agg[\"positive\"], color=\"green\", label=\"Positive Sentiment\")\n",
        "    plt.scatter(sentiment_agg[\"Date\"], sentiment_agg[\"negative\"], color=\"red\", label=\"Negative Sentiment\")\n",
        "    plt.plot(sentiment_agg[\"Date\"], y_pred, color=\"blue\", label=\"Regression Line (Positive)\")\n",
        "    plt.title(\"Sentiment Analysis with Regression Line\")\n",
        "    plt.xlabel(\"Date\")\n",
        "    plt.ylabel(\"Sentiment Count\")\n",
        "    plt.legend()\n",
        "    plt.xticks(rotation=45)\n",
        "    plt.grid()\n",
        "    plt.show()"
      ],
      "metadata": {
        "id": "7cSbGhYvySRV"
      },
      "execution_count": null,
      "outputs": []
    },
    {
      "cell_type": "markdown",
      "source": [
        "**The main Function<br>**\n",
        "This main function orchestrates the entire sentiment analysis process. It first preprocesses the review data, then applies sentiment analysis to each review's text. Next, it aggregates the sentiment data by date and prints the results. It also generates a sentiment histogram and performs a regression analysis to show sentiment trends over time."
      ],
      "metadata": {
        "id": "0JfIfP-CzM8o"
      }
    },
    {
      "cell_type": "code",
      "source": [
        "def main(file_path):\n",
        "    review_data = preprocess_review_data(file_path)\n",
        "    review_data[\"sentiment\"] = review_data[\"Review Text\"].apply(get_sentiment)\n",
        "    sentiment_agg = aggregate_sentiment(review_data)\n",
        "\n",
        "    print(\"Aggregated Sentiment DataFrame:\")\n",
        "    print(sentiment_agg)\n",
        "    print(\"Histogram : \")\n",
        "    plot_sentiment_histogram(review_data)\n",
        "\n",
        "    print(\"Analysis of the reviews : \")\n",
        "    plot_sentiment_with_regression(sentiment_agg)"
      ],
      "metadata": {
        "id": "IXSgC9pqyWnY"
      },
      "execution_count": null,
      "outputs": []
    },
    {
      "cell_type": "code",
      "source": [
        "if __name__ == \"__main__\":\n",
        "    file_path = \"snapdeal_product_reviews.csv\"\n",
        "    main(file_path)"
      ],
      "metadata": {
        "id": "8RS1r4gEyc4t",
        "colab": {
          "base_uri": "https://localhost:8080/"
        },
        "outputId": "3af03672-5d5b-4c07-e18c-559ba2551fe3"
      },
      "execution_count": null,
      "outputs": [
        {
          "output_type": "stream",
          "name": "stdout",
          "text": [
            "Sentiment result for 'Product is fine. But not as per the picture in the site. But no harm done. Quality is ok.': [{'label': 'POSITIVE', 'score': 0.9996289014816284}]\n",
            "Sentiment result for 'Quality is bad. Once  drop is enough to break into pieces': [{'label': 'NEGATIVE', 'score': 0.9997909665107727}]\n",
            "Sentiment result for 'It makes lot of unexpected voice while chopping it feels it's going to break soon': [{'label': 'NEGATIVE', 'score': 0.9480164647102356}]\n",
            "Sentiment result for 'Lid is not fitting properly other wise ok': [{'label': 'NEGATIVE', 'score': 0.9996139407157898}]\n",
            "Sentiment result for 'I would like to return this \"HOMETALES COMPACT MA.. FDUXCHOPE as it's of poor quality': [{'label': 'NEGATIVE', 'score': 0.9994812607765198}]\n",
            "Sentiment result for 'Nothing more than toy.': [{'label': 'NEGATIVE', 'score': 0.9966464638710022}]\n",
            "Sentiment result for 'This quick cutter is very useful. Nice product.': [{'label': 'POSITIVE', 'score': 0.9996765851974487}]\n",
            "Sentiment result for 'The blade of this product is not sharp.': [{'label': 'NEGATIVE', 'score': 0.9997215867042542}]\n",
            "Sentiment result for 'The blades are in a rectangular shape ,in the picture the blades are curve      \n",
            "Overall product is good 👍': [{'label': 'POSITIVE', 'score': 0.9992004036903381}]\n",
            "Sentiment result for 'Bad product..': [{'label': 'NEGATIVE', 'score': 0.9997765421867371}]\n",
            "Aggregated Sentiment DataFrame:\n",
            "        Date  positive  negative\n",
            "0 2021-07-20         1         0\n",
            "1 2021-07-24         0         1\n",
            "2 2021-08-19         1         0\n",
            "3 2021-12-10         0         1\n",
            "4 2022-01-06         0         1\n",
            "5 2022-01-14         1         0\n",
            "6 2022-02-02         0         1\n",
            "7 2022-03-11         0         1\n",
            "8 2023-09-18         0         1\n",
            "9 2024-05-20         0         1\n",
            "Histogram : \n"
          ]
        },
        {
          "output_type": "display_data",
          "data": {
            "text/plain": [
              "<Figure size 640x480 with 1 Axes>"
            ],
            "image/png": "[encoded data removed]"
          },
          "metadata": {}
        },
        {
          "output_type": "stream",
          "name": "stdout",
          "text": [
            "Analysis of the reviews : \n"
          ]
        },
        {
          "output_type": "display_data",
          "data": {
            "text/plain": [
              "<Figure size 640x480 with 1 Axes>"
            ],
            "image/png": "[encoded data removed]"
          },
          "metadata": {}
        }
      ]
    },
    {
      "cell_type": "markdown",
      "source": [
        "**Inferences : <br>**\n",
        "The code generates a sentiment analysis of product reviews, producing three key outputs:\n",
        "\n",
        "Sentiment Histogram: A bar chart displaying the distribution of positive (green) and negative (red) sentiments, showing the overall sentiment of the reviews.\n",
        "\n",
        "Aggregated Sentiment Data: A table summarizing the counts of positive and negative sentiments grouped by date, revealing trends over time.\n",
        "\n",
        "Sentiment with Regression Line: A scatter plot with a regression line to visualize sentiment trends, helping identify whether sentiment has improved or declined over time.\n",
        "\n",
        "These outputs offer insights into the overall reception of the product and sentiment trends over time."
      ],
      "metadata": {
        "id": "ecTwILCc65SO"
      }
    }
  ]
}